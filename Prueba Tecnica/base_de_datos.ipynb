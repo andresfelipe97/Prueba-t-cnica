{
 "cells": [
  {
   "cell_type": "markdown",
   "metadata": {},
   "source": [
    "## Problemática por desarrollar \n"
   ]
  },
  {
   "cell_type": "markdown",
   "metadata": {},
   "source": [
    "IDENTIFICACIÓN DE DATOS ATIPICO ASOCIADOS A LA PRODUCCIÓN Y VENTAS DE PRODUCTOS PARA NUESTROS CLIENTES Y SOCIOS DE LAS MARCAS NATURA, BOREAL Y BEL NATUR.<div>\n",
    "</div>Precios atípicos (que alcanzan los S/500) entre los meses de enero y marzo 2024 (con mayor incidencia en este último).\n"
   ]
  },
  {
   "cell_type": "markdown",
   "metadata": {},
   "source": [
    "# 1. Cargue de librerías requeridas y base de datos.\n"
   ]
  },
  {
   "cell_type": "code",
   "execution_count": 95,
   "metadata": {},
   "outputs": [],
   "source": [
    "import pandas as pd\n",
    "import numpy as np\n",
    "import matplotlib as mlt"
   ]
  },
  {
   "cell_type": "markdown",
   "metadata": {},
   "source": [
    "Uso de sheet_name=\"Datos\" para leer la hoja donde se ubica la base de datos. "
   ]
  },
  {
   "cell_type": "code",
   "execution_count": 96,
   "metadata": {},
   "outputs": [],
   "source": [
    "df= pd.read_excel(\"/mnt/c/Users/andre/OneDrive/Escritorio/Prueba Tecnica Kantar PYTHON/Prueba.xlsx\", sheet_name=\"Datos\")"
   ]
  },
  {
   "cell_type": "markdown",
   "metadata": {},
   "source": [
    "Revision de la base datos a manejar."
   ]
  },
  {
   "cell_type": "code",
   "execution_count": null,
   "metadata": {},
   "outputs": [],
   "source": [
    "df.head()"
   ]
  },
  {
   "cell_type": "markdown",
   "metadata": {},
   "source": [
    "### Creacion de una copia de la base de datos para hacer modificaciones y asi evitar posibles errores o modificaciones de la base de datos principal."
   ]
  },
  {
   "cell_type": "code",
   "execution_count": 98,
   "metadata": {},
   "outputs": [],
   "source": [
    "df1= df.copy()"
   ]
  },
  {
   "cell_type": "markdown",
   "metadata": {},
   "source": [
    "# 2. Análisis de información - Etapa de depuración\n"
   ]
  },
  {
   "cell_type": "markdown",
   "metadata": {},
   "source": [
    "Validación de datos para asegurar la correcta tipificación y, si es necesario, realizar ajustes."
   ]
  },
  {
   "cell_type": "code",
   "execution_count": null,
   "metadata": {},
   "outputs": [],
   "source": [
    "df1.info()"
   ]
  },
  {
   "cell_type": "markdown",
   "metadata": {},
   "source": [
    "Revision de valores nulos"
   ]
  },
  {
   "cell_type": "code",
   "execution_count": null,
   "metadata": {},
   "outputs": [],
   "source": [
    "df1.isnull()"
   ]
  },
  {
   "cell_type": "markdown",
   "metadata": {},
   "source": [
    "Lista de nombres de columnas para revisar errores de tipeo."
   ]
  },
  {
   "cell_type": "code",
   "execution_count": null,
   "metadata": {},
   "outputs": [],
   "source": [
    "lista_columnas = df1.columns.tolist()\n",
    "print(lista_columnas)"
   ]
  },
  {
   "cell_type": "markdown",
   "metadata": {},
   "source": [
    "Identificación y correccion de errores de tipeo."
   ]
  },
  {
   "cell_type": "code",
   "execution_count": 102,
   "metadata": {},
   "outputs": [],
   "source": [
    "df1 = df1.rename(columns={'Ano': 'Año', 'idCidade': 'IdCiudad', 'IdProduto':'IdProducto', 'idPromocao':'IdPromocion', 'Preco_dolar': 'Precio_dolar', 'Quantidade': 'Cantidades', 'Preco_Total':'PrecioTotal' })"
   ]
  },
  {
   "cell_type": "code",
   "execution_count": null,
   "metadata": {},
   "outputs": [],
   "source": [
    "lista_columnas_C1 = df1.columns.tolist()\n",
    "print(lista_columnas_C1)"
   ]
  },
  {
   "cell_type": "code",
   "execution_count": 104,
   "metadata": {},
   "outputs": [],
   "source": [
    "df1['Edad_AC_1'] = df1['Edad_AC_1'].str.replace('a?os', 'años')\n",
    "df1['Edad_AC_2'] = df1['Edad_AC_2'].str.replace('a?os', 'años')\n",
    "df1['Edad_AC_3'] = df1['Edad_AC_3'].str.replace('a?os', 'años')"
   ]
  },
  {
   "cell_type": "code",
   "execution_count": null,
   "metadata": {},
   "outputs": [],
   "source": [
    "df1 = df1.assign(Data_Compra_año=df1['Data_Compra'].dt.year)\n",
    "df1 = df1.assign(Data_Compra_Mes=df1['Data_Compra'].dt.month)\n",
    "df1 = df1.assign(Data_Compra_Dia=df1['Data_Compra'].dt.day)\n",
    "df1= df1.reindex(columns=['IdAto', 'IdHato_Cabecalho', 'Año', 'Mes', 'Trimestre', 'Semestre', 'Data_Compra', 'Data_Compra_año', 'Data_Compra_Mes',\t'Data_Compra_Dia', 'Region', 'SubRegion', 'IdCiudad', 'Ciudad', 'IdDomicilio', 'NSE_LOC', 'NSE', 'Edad_del_bebe_en_meses', 'EDAC', 'Edad_AC_1', 'Edad_AC_2', 'Edad_AC_3', 'NI', 'Cantidad_Individuos', 'IdProducto', 'Categoria', 'IdSub', 'SubProduto', 'IdFabricante', 'Fabricante', 'IdMarca', 'Marca', 'Clas01', 'Clas02', 'Clas03', 'Clas04', 'IdArtigo', 'VOL_UNITARIO', 'Unidade', 'Tipo_Canal', 'IdCanal', 'Canal', 'FORMA_COMPRA', 'FormaCompra', 'IdPromocion', 'Promocion', 'Precio_dolar', 'Cantidades', 'Unidades_packs', 'Pack_comprado', 'AccesoCanal', 'Factor_Expansion', 'Vol', 'VolPesado', 'VolPesadoRW', 'Val', 'ValPesado', 'ValPesadoRW', 'ValUS', 'ValPesadoUS', 'ValPesadoRWUS', 'PrecioTotal', 'Value_PM'])\n",
    "\n",
    "df1.head()"
   ]
  },
  {
   "cell_type": "markdown",
   "metadata": {},
   "source": [
    "Confirmacion de los cambios realizados para que los datos sean coherentes y cumplan con las reglas establecidas."
   ]
  },
  {
   "cell_type": "code",
   "execution_count": null,
   "metadata": {},
   "outputs": [],
   "source": [
    "pd.set_option('display.max_rows', 7)\n",
    "pd.set_option('display.max_columns', None)\n",
    "print(df1)"
   ]
  },
  {
   "cell_type": "markdown",
   "metadata": {},
   "source": [
    "Identificación o eliminación de valores atípicos: filtrar año con data_compra\n"
   ]
  },
  {
   "cell_type": "code",
   "execution_count": null,
   "metadata": {},
   "outputs": [],
   "source": [
    "filtro = (df1['Año'] == 2024) & (df1['Data_Compra_año'] == 2023)\n",
    "df_filtrado = df1.loc[filtro, ['Año', 'Data_Compra_año']]\n",
    "print(df_filtrado.info())"
   ]
  },
  {
   "cell_type": "markdown",
   "metadata": {},
   "source": [
    "Resultado: hay 284 registros de Data_Compra de 2023 relacionadas con el Año 2024 demostrando errores en el registro de la tabla de datos.\n"
   ]
  },
  {
   "cell_type": "markdown",
   "metadata": {},
   "source": [
    "# 3.Análisis de información - Etapa descriptiva\n"
   ]
  },
  {
   "cell_type": "code",
   "execution_count": 108,
   "metadata": {},
   "outputs": [],
   "source": [
    "df2= df1.copy()"
   ]
  },
  {
   "cell_type": "code",
   "execution_count": null,
   "metadata": {},
   "outputs": [],
   "source": [
    "df2.head()"
   ]
  },
  {
   "cell_type": "markdown",
   "metadata": {},
   "source": [
    "Organizamos los datos con los requerimientos del cuestionamiento y agregamos mas informacion para un mayor analisis de informacion."
   ]
  },
  {
   "cell_type": "code",
   "execution_count": 110,
   "metadata": {},
   "outputs": [],
   "source": [
    "extraccion_de_columnas = ['Año','Mes','Data_Compra','Data_Compra_año','Data_Compra_Mes','Data_Compra_Dia','Clas04','Ciudad','Fabricante','Marca','Clas01','Clas02','VOL_UNITARIO','Unidade','Tipo_Canal','Canal','FORMA_COMPRA','IdPromocion','Promocion','Precio_dolar','Cantidades','Unidades_packs','Pack_comprado','VolPesadoRW','ValPesadoRW',]"
   ]
  },
  {
   "cell_type": "code",
   "execution_count": null,
   "metadata": {},
   "outputs": [],
   "source": [
    "df3 = df2[extraccion_de_columnas].copy()\n",
    "df3.head()"
   ]
  },
  {
   "cell_type": "markdown",
   "metadata": {},
   "source": [
    "Filtracion de informacion requerida para dar respuesta al cuestionamiento planteado"
   ]
  },
  {
   "cell_type": "code",
   "execution_count": null,
   "metadata": {},
   "outputs": [],
   "source": [
    "df_filtrado = df3.loc[\n",
    "    (df3['Año'] == 2024) & \n",
    "    (df3['Mes'].isin([1, 2, 3])) & \n",
    "    (df3['Data_Compra_año'] == 2024) &\n",
    "    (df3['Clas02'].isin(['COLONIA','COLONIA REFRESCANTE'])) & \n",
    "    (df3['Marca'].isin(['NATURA', 'BEL NATUR', 'BOREAL'])) & \n",
    "    (df3['Clas04'].isin(['FEMENINO', 'UNISEX']))\n",
    "]\n",
    "\n",
    "df_filtrado.head()"
   ]
  },
  {
   "cell_type": "markdown",
   "metadata": {},
   "source": [
    "Creacion de la columna PMPK_CP"
   ]
  },
  {
   "cell_type": "code",
   "execution_count": 113,
   "metadata": {},
   "outputs": [],
   "source": [
    "df4 = df_filtrado.copy()"
   ]
  },
  {
   "cell_type": "code",
   "execution_count": 114,
   "metadata": {},
   "outputs": [],
   "source": [
    "df4['ValPesadoRW'] = df4['ValPesadoRW'].astype(int)\n",
    "df4['VolPesadoRW'] = df4['VolPesadoRW'].astype(int)"
   ]
  },
  {
   "cell_type": "code",
   "execution_count": null,
   "metadata": {},
   "outputs": [],
   "source": [
    "df4['PMPK_CP'] = df4['ValPesadoRW'] / df4['VolPesadoRW'] \n",
    "df4.head()"
   ]
  },
  {
   "cell_type": "markdown",
   "metadata": {},
   "source": [
    "¿Cuáles son los productos más vendidos?"
   ]
  },
  {
   "cell_type": "markdown",
   "metadata": {},
   "source": [
    "¿Cuál es el promedio de ventas por mes?\n"
   ]
  },
  {
   "cell_type": "markdown",
   "metadata": {},
   "source": [
    "¿Cómo varían las ventas a lo largo del año?"
   ]
  }
 ],
 "metadata": {
  "kernelspec": {
   "display_name": "Python 3",
   "language": "python",
   "name": "python3"
  },
  "language_info": {
   "codemirror_mode": {
    "name": "ipython",
    "version": 3
   },
   "file_extension": ".py",
   "mimetype": "text/x-python",
   "name": "python",
   "nbconvert_exporter": "python",
   "pygments_lexer": "ipython3",
   "version": "3.10.12"
  }
 },
 "nbformat": 4,
 "nbformat_minor": 2
}
